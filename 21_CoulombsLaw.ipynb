{
 "cells": [
  {
   "cell_type": "code",
   "execution_count": 1,
   "metadata": {
    "collapsed": false
   },
   "outputs": [],
   "source": [
    "import numpy as np\n",
    "import matplotlib.pyplot as plt\n",
    "%matplotlib inline"
   ]
  },
  {
   "cell_type": "code",
   "execution_count": 2,
   "metadata": {
    "collapsed": false
   },
   "outputs": [],
   "source": [
    "k = 8.99e9 #electrostatic constant\n",
    "e = 1.602e-19 #electron charge"
   ]
  },
  {
   "cell_type": "code",
   "execution_count": 3,
   "metadata": {
    "collapsed": false
   },
   "outputs": [
    {
     "name": "stdout",
     "output_type": "stream",
     "text": [
      "F = 2.81 N\n"
     ]
    }
   ],
   "source": [
    "#21.5\n",
    "\n",
    "q1, q2 = 3e-6, -1.5e-6\n",
    "r = 12*1e-2 #12 cm in m\n",
    "F = k*abs(q1)*abs(q2)/r**2\n",
    "\n",
    "print 'F = {0:.2f} N'.format(F)"
   ]
  },
  {
   "cell_type": "code",
   "execution_count": 4,
   "metadata": {
    "collapsed": false
   },
   "outputs": [
    {
     "name": "stdout",
     "output_type": "stream",
     "text": [
      "q = 3.21e-19 C\n",
      "n = 2\n"
     ]
    }
   ],
   "source": [
    "#21.27\n",
    "\n",
    "F = 3.7e-9\n",
    "r = 5e-10\n",
    "\n",
    "q = np.sqrt(F/k)*r\n",
    "print \"q = {0:.2e} C\".format(q)\n",
    "\n",
    "n = q/e\n",
    "print \"n = {0:.0f}\".format(round(n))"
   ]
  },
  {
   "cell_type": "code",
   "execution_count": 5,
   "metadata": {
    "collapsed": false
   },
   "outputs": [
    {
     "name": "stdout",
     "output_type": "stream",
     "text": [
      "xmax = 0.12 m\n",
      "Fmax = 4.90e-26 N\n"
     ]
    },
    {
     "data": {
      "image/png": "[encoded data removed]",
      "text/plain": [
       "<matplotlib.figure.Figure at 0x9acd240>"
      ]
     },
     "metadata": {},
     "output_type": "display_data"
    }
   ],
   "source": [
    "#21.23\n",
    "\n",
    "q1 = q2 = 3.2e-19\n",
    "d = 17*1e-2\n",
    "q3 = 6.4e-19\n",
    "x = np.arange(0, 5, 0.01)\n",
    "F = 2*k*q1*q3*x/(x**2 + d**2)**1.5\n",
    "\n",
    "plt.plot(x, F)\n",
    "plt.grid()\n",
    "plt.xlabel('x (m)')\n",
    "plt.ylabel('F (N)')\n",
    "\n",
    "print 'xmax = {0:.2f} m'.format(x[F == max(F)][0])\n",
    "print 'Fmax = {0:.2e} N'.format(F[F == max(F)][0])"
   ]
  },
  {
   "cell_type": "code",
   "execution_count": 12,
   "metadata": {
    "collapsed": false
   },
   "outputs": [
    {
     "name": "stdout",
     "output_type": "stream",
     "text": [
      "q = 5.71e+13 C\n",
      "number of ions = 3.56e+32\n",
      "mass of ions = 5.95e+05 kg\n"
     ]
    }
   ],
   "source": [
    "# 21.41\n",
    "\n",
    "G = 6.67384e-11 #gravitational constant\n",
    "ME = 5.972e24 #mass of the Earth \n",
    "MM = 7.348e22 #mass of the Moon\n",
    "\n",
    "q = np.sqrt(G*ME*MM/k)\n",
    "\n",
    "print \"q = {0:.2e} C\".format(q)\n",
    "\n",
    "n = q/e\n",
    "\n",
    "print \"number of ions = {0:.2e}\".format(n)\n",
    "\n",
    "m = 1.67e-27 #mass of each hydrogen ion\n",
    "\n",
    "print \"mass of ions = {0:.2e} kg\".format(n*m)"
   ]
  },
  {
   "cell_type": "code",
   "execution_count": null,
   "metadata": {
    "collapsed": true
   },
   "outputs": [],
   "source": []
  }
 ],
 "metadata": {
  "kernelspec": {
   "display_name": "Python 2",
   "language": "python",
   "name": "python2"
  },
  "language_info": {
   "codemirror_mode": {
    "name": "ipython",
    "version": 2
   },
   "file_extension": ".py",
   "mimetype": "text/x-python",
   "name": "python",
   "nbconvert_exporter": "python",
   "pygments_lexer": "ipython2",
   "version": "2.7.8"
  }
 },
 "nbformat": 4,
 "nbformat_minor": 0
}
